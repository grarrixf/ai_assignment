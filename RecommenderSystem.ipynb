{
 "cells": [
  {
   "cell_type": "markdown",
   "id": "24951d6b-76f9-4e42-88f6-4f838270535b",
   "metadata": {},
   "source": [
    "Book Recommender System Using Clustering | Collaborative Based"
   ]
  },
  {
   "cell_type": "code",
   "execution_count": 177,
   "id": "ac17da8a-38b3-4929-a27e-27fd1ca3b637",
   "metadata": {},
   "outputs": [
    {
     "name": "stdout",
     "output_type": "stream",
     "text": [
      "Requirement already satisfied: fuzzywuzzy in c:\\users\\user\\anaconda3\\lib\\site-packages (0.18.0)\n"
     ]
    }
   ],
   "source": [
    "!pip install fuzzywuzzy"
   ]
  },
  {
   "cell_type": "code",
   "execution_count": 340,
   "id": "42c13e4f-1fca-4b5f-8d1d-13f95ab852ea",
   "metadata": {},
   "outputs": [
    {
     "name": "stdout",
     "output_type": "stream",
     "text": [
      "Unique genres: ['Fantasy' 'Romance' 'Memoir' 'Childrens' 'Politics' 'Humor' 'Crime'\n",
      " 'Historical' 'Adventure' 'Nonfiction' 'Eschatology' 'Literary'\n",
      " 'Biography' 'Science' 'Fiction' 'Thriller' 'Finance' 'Health'\n",
      " 'Educational' 'Cookbook' 'Art']\n",
      "\n",
      "Recommendations:\n",
      "1: The Leaf Thief\n",
      "2: Little Blue Truck Christmas\n",
      "3: Do not Let the Pigeon Drive the Sleigh\n",
      "4: The Psychology of Money\n",
      "5: Just Because\n"
     ]
    }
   ],
   "source": [
    "import pandas as pd\n",
    "import numpy as np\n",
    "from scipy.sparse import csr_matrix\n",
    "from sklearn.neighbors import NearestNeighbors\n",
    "from fuzzywuzzy import process\n",
    "\n",
    "# load the dataset\n",
    "books = pd.read_csv('AmanzonBooks.csv', sep=',', encoding='latin-1')\n",
    "\n",
    "# print unique values in the genre column\n",
    "print(\"Unique genres:\", books['genre'].unique())\n",
    "\n",
    "# drop rows with missing values in the genre column\n",
    "books.dropna(subset=['genre'], inplace=True)\n",
    "\n",
    "#print(\"Size of the dataset after dropping rows with missing genres:\", books.shape)\n",
    "\n",
    "# keep only relevant columns\n",
    "books = books[['rank', 'bookTitle', 'bookPrice', 'rating', 'genre']]\n",
    "# rename\n",
    "books.rename(columns={'rank': 'no',\n",
    "                      'bookTitle': 'title',\n",
    "                      'bookPrice': 'price',\n",
    "                      'rating': 'rate'\n",
    "                     }, inplace=True)\n",
    "\n",
    "# convert price to numeric\n",
    "books['price'] = pd.to_numeric(books['price'], errors='coerce')\n",
    "\n",
    "# convert rating to numeric\n",
    "books['rate'] = pd.to_numeric(books['rate'], errors='coerce')\n",
    "\n",
    "# pivot table to show the item feature matrix\n",
    "book_pivot = pd.pivot_table(books, index='title', columns='genre', values=['price', 'rate'])\n",
    "\n",
    "# drop multi-level column index\n",
    "book_pivot.columns = book_pivot.columns.droplevel(0)\n",
    "\n",
    "# fill missing values with zeros\n",
    "book_pivot.fillna(0, inplace=True)\n",
    "\n",
    "# convert pivot table to a sparse matrix\n",
    "book_sparse = csr_matrix(book_pivot.values)\n",
    "\n",
    "# initialize the Nearest Neighbors model (K-Means)\n",
    "model = NearestNeighbors(algorithm='brute')\n",
    "\n",
    "# fit the model to the sparse matrix\n",
    "model.fit(book_sparse)\n",
    "\n",
    "# set the index of books DataFrame to title\n",
    "books.set_index('title', inplace=True)\n",
    "\n",
    "def recommend_books(book_features, n=5):\n",
    "    # convert genre to lowercase\n",
    "    book_features['genre'] = book_features['genre'].str.lower()\n",
    "\n",
    "    # array\n",
    "    recommended_books = []\n",
    "\n",
    "    # check if the provided genre match any genre in the dataset ignoring case\n",
    "    for genre in book_features['genre']:\n",
    "        genre_matches = book_pivot.columns.str.lower() == genre\n",
    "        # if found filter books by the genre\n",
    "        if genre_matches.any():\n",
    "            genre_books = book_pivot.loc[:, genre_matches]\n",
    "            genre_books = genre_books[genre_books.sum(axis=1) > 0]\n",
    "        else:  # if no match find the closest one using fuzzy string matching\n",
    "            closest_genre, score = process.extractOne(genre, books['genre'], scorer=process.WRatio)\n",
    "            if score < 70:  # minimum similarity score\n",
    "                print(f\"No books found for the specific genre '{genre}'.\")\n",
    "                continue\n",
    "            genre_books = book_pivot.loc[:, closest_genre]\n",
    "            genre_books = genre_books[genre_books.sum(axis=1) > 0]\n",
    "\n",
    "        # find nearest neighbors\n",
    "        if len(genre_books) > 0:\n",
    "            distances, indices = model.kneighbors(book_pivot.loc[genre_books.index].values, n_neighbors=n+1)\n",
    "            # add recommended books\n",
    "            for idx in indices[0][1:]:  # start from 1 to skip the first book\n",
    "                recommended_books.append(book_pivot.index[idx])\n",
    "        else:\n",
    "            print(f\"No books found for the specific genre '{genre}'.\")\n",
    "\n",
    "    # sort recommended books by rate (highest to lowest) and then by price (lowest to highest)\n",
    "    if recommended_books:\n",
    "        recommended_books = sorted(recommended_books, key=lambda x: (books.loc[x, 'rate'], -books.loc[x, 'price']), reverse=True)\n",
    "        print()\n",
    "        print(\"Recommendations:\")\n",
    "        for i, book in enumerate(recommended_books[:n]):\n",
    "            print(f\"{i+1}: {book}\")\n",
    "    else:\n",
    "        print(\"No recommendations found.\")\n",
    "\n",
    "# test the recommendation function with a sample book\n",
    "sample_book = pd.DataFrame({'price': [7], 'rate': [4.5], 'genre': ['Childrens']})\n",
    "recommend_books(sample_book)"
   ]
  },
  {
   "cell_type": "code",
   "execution_count": null,
   "id": "8a5560b3-8d6b-4b25-b1f7-0d60a4c6b9a6",
   "metadata": {},
   "outputs": [],
   "source": []
  }
 ],
 "metadata": {
  "kernelspec": {
   "display_name": "Python 3 (ipykernel)",
   "language": "python",
   "name": "python3"
  },
  "language_info": {
   "codemirror_mode": {
    "name": "ipython",
    "version": 3
   },
   "file_extension": ".py",
   "mimetype": "text/x-python",
   "name": "python",
   "nbconvert_exporter": "python",
   "pygments_lexer": "ipython3",
   "version": "3.11.7"
  }
 },
 "nbformat": 4,
 "nbformat_minor": 5
}
